{
 "cells": [
  {
   "cell_type": "code",
   "execution_count": null,
   "metadata": {},
   "outputs": [],
   "source": [
    "setup;\n",
    "warning ('off', 'Octave:divide-by-zero');"
   ]
  },
  {
   "cell_type": "markdown",
   "metadata": {},
   "source": [
    "# Free Variables\n",
    "\n",
    "Free variables occur often in practice.\n",
    "Handling free variables in interior point algorithms is a pending issue\n",
    "(see for example\n",
    "[[Andersen2002]](https://vsdp.github.io/references.html#Andersen2002),\n",
    "[[Anjos2007]](https://vsdp.github.io/references.html#Anjos2007), and\n",
    "[[Meszaros1998]](https://vsdp.github.io/references.html#Meszaros1998)\n",
    "Frequently users convert a problem with free variables\n",
    "into one with restricted variables by representing the free variables\n",
    "as a difference of two nonnegative variables.\n",
    "This approach increases the problem size and introduces ill-posedness,\n",
    "which may lead to numerical difficulties."
   ]
  },
  {
   "cell_type": "markdown",
   "metadata": {},
   "source": [
    "For an example we consider the test problem `nb_L1`\n",
    "from the DIMACS test library [[Pataki2002]](https://vsdp.github.io/references.html#Pataki2002).\n",
    "The problem originates from side lobe minimization in antenna engineering.\n",
    "This is a second-order cone programming problem with 915 equality constraints,\n",
    "793 SOCP blocks each of size 3,\n",
    "and 797 nonnegative variables.\n",
    "Moreover,\n",
    "the problem has two free variables\n",
    "that are described as the difference of four nonnegative variables.\n",
    "This problem can be loaded from the `test` directory of VSDP."
   ]
  },
  {
   "cell_type": "markdown",
   "metadata": {},
   "source": [
    "SDPT3 solves the problem without warnings,\n",
    "although it is ill-posed according to Renegar's definition\n",
    "(see [[Renegar1994]](https://vsdp.github.io/references.html#Renegar1994)):"
   ]
  },
  {
   "cell_type": "code",
   "execution_count": 2,
   "metadata": {},
   "outputs": [
    {
     "name": "stdout",
     "output_type": "stream",
     "text": [
      "warning: rigorous_lower_bound: Maximum number of iterations reached.\n",
      "warning: called from\n",
      "    rigorous_lower_bound at line 184 column 3\n",
      "ans =\n",
      "  VSDP conic programming problem with dimensions:\n",
      "\n",
      "    [n,m] = size(obj.At)\n",
      "     n    = 3176 variables\n",
      "       m  =  915 constraints\n",
      "\n",
      "  and cones:\n",
      "\n",
      "     K.l = 797\n",
      "     K.q = [ 793 cones (length = 2379) ]\n",
      "\n",
      "  obj.solutions.approximate:\n",
      "\n",
      "      Solver 'sedumi': Normal termination, 3.9 seconds.\n",
      "\n",
      "        c'*x = -1.301227002938421e+01\n",
      "        b'*y = -1.301227002640939e+01\n",
      "\n",
      "\n",
      "  obj.solutions.rigorous_lower_bound:\n",
      "\n",
      "      Solver 'sedumi': Unknown, 75.8 seconds, 11 iterations.\n",
      "\n",
      "          fL = -Inf\n",
      "\n",
      "  obj.solutions.rigorous_upper_bound:\n",
      "\n",
      "      Normal termination, 3.0 seconds, 0 iterations.\n",
      "\n",
      "          fU = -1.301227002937967e+01\n",
      "\n",
      "\n",
      "  The rigorous lower bound is infinite, check dual infeasibility:\n",
      "\n",
      "    'obj = obj.check_dual_infeasible()'\n",
      "\n",
      "\n",
      "  Detailed information:  'obj.info()'\n",
      "\n",
      "\n"
     ]
    }
   ],
   "source": [
    "load (fullfile ('..', 'test', 'nb_L1.mat'));\n",
    "obj = vsdp (A, b, c, K);\n",
    "obj.options.VERBOSE_OUTPUT = false;\n",
    "obj.solve('sedumi') ...\n",
    "   .rigorous_lower_bound () ...\n",
    "   .rigorous_upper_bound ()"
   ]
  },
  {
   "cell_type": "markdown",
   "metadata": {},
   "source": [
    "These results reflect that the interior of the dual feasible solution set is empty.\n",
    "An ill-posed problem has the property\n",
    "that the distance to primal or dual infeasibility is zero.\n",
    "If as above the distance to dual infeasibility is zero,\n",
    "then there are sequences of dual infeasible problems with input data\n",
    "converging to the input data of the original problem.\n",
    "Each problem of the sequence is dual infeasible\n",
    "and thus has the dual optimal solution $-\\infty$.\n",
    "Hence, the result $-\\infty$ of `vsdp.rigorous_lower_bound`\n",
    "is exactly the limit of the optimal values of the dual infeasible problems\n",
    "and reflects the fact that the distance to dual infeasibility is zero.\n",
    "This demonstrates that the infinite bound computed by VSDP is sharp,\n",
    "when viewed as the limit of a sequence of infeasible problems.\n",
    "We have a similar situation if the distance to primal infeasibility is zero."
   ]
  },
  {
   "cell_type": "markdown",
   "metadata": {},
   "source": [
    "If the free variables are not converted into restricted ones,\n",
    "then the problem is well-posed\n",
    "and a rigorous finite lower bound can be computed:"
   ]
  },
  {
   "cell_type": "code",
   "execution_count": 3,
   "metadata": {},
   "outputs": [
    {
     "name": "stdout",
     "output_type": "stream",
     "text": [
      "ans =\n",
      "  VSDP conic programming problem with dimensions:\n",
      "\n",
      "    [n,m] = size(obj.At)\n",
      "     n    = 3174 variables\n",
      "       m  =  915 constraints\n",
      "\n",
      "  and cones:\n",
      "\n",
      "     K.f = 2\n",
      "     K.l = 793\n",
      "     K.q = [ 793 cones (length = 2379) ]\n",
      "\n",
      "  obj.solutions.approximate:\n",
      "\n",
      "      Solver 'sedumi': Normal termination, 3.9 seconds.\n",
      "\n",
      "        c'*x = -1.301227001916117e+01\n",
      "        b'*y = -1.301227001421852e+01\n",
      "\n",
      "\n",
      "  obj.solutions.rigorous_lower_bound:\n",
      "\n",
      "      Solver 'sedumi': Normal termination, 9.9 seconds, 1 iterations.\n",
      "\n",
      "          fL = -1.301227166990311e+01\n",
      "\n",
      "  obj.solutions.rigorous_upper_bound:\n",
      "\n",
      "      Normal termination, 2.9 seconds, 0 iterations.\n",
      "\n",
      "          fU = -1.301227001915604e+01\n",
      "\n",
      "\n",
      "\n",
      "  Detailed information:  'obj.info()'\n",
      "\n",
      "\n"
     ]
    }
   ],
   "source": [
    "load (fullfile ('..', 'test', 'nb_L1free.mat'));\n",
    "obj = vsdp (A, b, c, K);\n",
    "obj.options.VERBOSE_OUTPUT = false;\n",
    "obj.solve('sedumi') ...\n",
    "   .rigorous_lower_bound () ...\n",
    "   .rigorous_upper_bound ()"
   ]
  },
  {
   "cell_type": "markdown",
   "metadata": {},
   "source": [
    "Therefore,\n",
    "without splitting the free variables,\n",
    "we get rigorous finite lower and upper bounds\n",
    "of the exact optimal value with an accuracy of about eight decimal digits.\n",
    "Moreover,\n",
    "verified interior solutions are computed for both the primal and the dual problem,\n",
    "proving strong duality."
   ]
  },
  {
   "cell_type": "code",
   "execution_count": null,
   "metadata": {},
   "outputs": [],
   "source": []
  }
 ],
 "metadata": {
  "kernelspec": {
   "display_name": "Octave",
   "language": "octave",
   "name": "octave"
  },
  "language_info": {
   "file_extension": ".m",
   "help_links": [
    {
     "text": "GNU Octave",
     "url": "https://www.gnu.org/software/octave/support.html"
    },
    {
     "text": "Octave Kernel",
     "url": "https://github.com/Calysto/octave_kernel"
    },
    {
     "text": "MetaKernel Magics",
     "url": "https://github.com/calysto/metakernel/blob/master/metakernel/magics/README.md"
    }
   ],
   "mimetype": "text/x-octave",
   "name": "octave",
   "version": "5.0.91"
  }
 },
 "nbformat": 4,
 "nbformat_minor": 2
}
