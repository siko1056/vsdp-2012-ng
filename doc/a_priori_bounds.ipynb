{
 "cells": [
  {
   "cell_type": "code",
   "execution_count": null,
   "metadata": {},
   "outputs": [],
   "source": [
    "setup;"
   ]
  },
  {
   "cell_type": "markdown",
   "metadata": {},
   "source": [
    "# A Priori Bounds\n",
    "\n",
    "In many practical applications the order of the magnitude of a primal or dual\n",
    "optimal solution is known a priori.  This is the case in many combinatorial\n",
    "optimization problems, or, for instance, in truss topology design where the\n",
    "design variables such as bar volumes can be roughly bounded.  If such bounds\n",
    "are available they can speed up the computation of guaranteed error bounds\n",
    "for the optimal value substantially, see\n",
    "[[Jansson2006]](https://vsdp.github.io/references.html#Jansson2006)."
   ]
  },
  {
   "cell_type": "markdown",
   "metadata": {},
   "source": [
    "For linear programming problems the upper bound for the variable $x^{l}$\n",
    "is a vector $\\bar{x}$ such that $x^{l} \\leq \\bar{x}$.  For second\n",
    "order cone programming the upper bounds for block variables $x_{i}^{q}$\n",
    "with $i = 1,\\ldots,n_{q}$ can be entered as a vector of upper bounds\n",
    "$\\overline{\\lambda}_{i}$ of the largest eigenvalues\n",
    "$$\\lambda_{\\max}(x_{i}^{q}) = (x_{i}^{q})_{1} + ||(x_{i}^{q})_{:}||_{2}.$$\n",
    "Similarly, for semidefinite programs upper bounds for the primal variables\n",
    "$X_{j}^{s}$ can be entered as a vector of upper bounds of the largest\n",
    "eigenvalues $\\lambda_{\\max}(X_{j}^{s})$, $j = 1,\\ldots,n_{s}$. An upper bound\n",
    "$\\bar{y}$ for the dual optimal solution $y$ is a vector which is\n",
    "componentwise larger then $|y|$. Analogously, for conic programs with free\n",
    "variables the upper bound can be entered as a vector $\\bar{x}$ such that\n",
    "$|x^{f}| \\leq \\bar{x}$."
   ]
  },
  {
   "cell_type": "markdown",
   "metadata": {},
   "source": [
    "As an example, we consider the previous SDP problem with an upper bound\n",
    "$xu = 10^{5}$ for $\\lambda_{\\max}(X)$."
   ]
  },
  {
   "cell_type": "code",
   "execution_count": 2,
   "metadata": {},
   "outputs": [],
   "source": [
    "c = [  0;   1/2;      0;\n",
    "      1/2; 10^(-3);   0;\n",
    "       0;    0;     10^(-3) ];\n",
    "\n",
    "At = {};\n",
    "At{1} = [ 0; -1/2; 0;\n",
    "        -1/2;  0;  0;\n",
    "          0;   0;  0 ];\n",
    "At{2} = [ 1; 0; 0;\n",
    "          0; 0; 0;\n",
    "          0; 0; 0 ];\n",
    "At{3} = [ 0; 0; 1;\n",
    "          0; 0; 0;\n",
    "          1; 0; 0 ];\n",
    "At{4} = [ 0; 0; 0;\n",
    "          0; 0; 1;\n",
    "          0; 1; 0 ];\n",
    "At = [At{:}];\n",
    "\n",
    "b = [1; 10^(-4); 0; 0];\n",
    "\n",
    "K.s = 3;\n",
    "\n",
    "obj = vsdp (At, b, c, K);\n",
    "obj.options.VERBOSE_OUTPUT = false;"
   ]
  },
  {
   "cell_type": "markdown",
   "metadata": {},
   "source": [
    "Now we compute approximate solutions by using `vsdp.solve` and then verified\n",
    "error bounds by using `vsdp.rigorous_lower_bound` and `vsdp.rigorous_upper_bound`:"
   ]
  },
  {
   "cell_type": "code",
   "execution_count": 3,
   "metadata": {},
   "outputs": [
    {
     "name": "stdout",
     "output_type": "stream",
     "text": [
      "ans =\n",
      "  VSDP conic programming problem with dimensions:\n",
      "\n",
      "    [n,m] = size(obj.At)\n",
      "     n    = 6 variables\n",
      "       m  = 4 constraints\n",
      "\n",
      "  and cones:\n",
      "\n",
      "     K.s = [ 3 ]\n",
      "\n",
      "  obj.solutions.approximate:\n",
      "\n",
      "      Solver 'sedumi': Normal termination, 0.3 seconds.\n",
      "\n",
      "        c'*x = 8.999974295594320e+00\n",
      "        b'*y = 8.999997616802656e+00\n",
      "\n",
      "\n",
      "  obj.solutions.rigorous_lower_bound:\n",
      "\n",
      "      Normal termination, 0.0 seconds, 0 iterations.\n",
      "\n",
      "          fL = 8.999997616802656e+00\n",
      "\n",
      "  obj.solutions.rigorous_upper_bound:\n",
      "\n",
      "      Normal termination, 0.0 seconds, 0 iterations.\n",
      "\n",
      "          fU = 9.000042301043072e+00\n",
      "\n",
      "\n",
      "\n",
      "  Detailed information:  'obj.info()'\n",
      "\n",
      "\n"
     ]
    }
   ],
   "source": [
    "xu = 1e5;\n",
    "yu = 1e5 * [1 1 1 1]';\n",
    "\n",
    "obj.solve('sedumi') ...\n",
    "   .rigorous_lower_bound(xu) ...\n",
    "   .rigorous_upper_bound(yu)"
   ]
  },
  {
   "cell_type": "markdown",
   "metadata": {},
   "source": [
    "yielding also a reasonable bound."
   ]
  },
  {
   "cell_type": "code",
   "execution_count": null,
   "metadata": {},
   "outputs": [],
   "source": []
  }
 ],
 "metadata": {
  "kernelspec": {
   "display_name": "Octave",
   "language": "octave",
   "name": "octave"
  },
  "language_info": {
   "file_extension": ".m",
   "help_links": [
    {
     "text": "GNU Octave",
     "url": "https://www.gnu.org/software/octave/support.html"
    },
    {
     "text": "Octave Kernel",
     "url": "https://github.com/Calysto/octave_kernel"
    },
    {
     "text": "MetaKernel Magics",
     "url": "https://github.com/calysto/metakernel/blob/master/metakernel/magics/README.md"
    }
   ],
   "mimetype": "text/x-octave",
   "name": "octave",
   "version": "4.4.1"
  }
 },
 "nbformat": 4,
 "nbformat_minor": 2
}
