{
 "cells": [
  {
   "cell_type": "code",
   "execution_count": null,
   "metadata": {},
   "outputs": [],
   "source": [
    "setup;\n",
    "warning ('off', 'VSDP:testVSDP_svec_smat:noIntval');\n",
    "warning ('off', 'VSDP:testVSDP_LP:solverNotAvailable');\n",
    "warning ('off', 'VSDP:testVSDP_SOCP:solverNotAvailable');\n",
    "warning ('off', 'VSDP:testVSDP_SDP:solverNotAvailable');"
   ]
  },
  {
   "cell_type": "markdown",
   "metadata": {},
   "source": [
    "# Installation\n",
    "\n",
    "## Requirements\n",
    "\n",
    "To run VSDP, the following requirements have to be fulfilled:\n",
    "\n",
    "* A recent version of [GNU Octave](https://www.octave.org) or\n",
    "  [MATLAB](https://www.mathworks.com/products/matlab) has to be installed.\n",
    "* The interval toolbox [INTLAB](http://www.ti3.tu-harburg.de/rump/intlab) is required.\n",
    "* At least one of the following approximate solvers has to be installed:\n",
    "  * [CSDP](https://github.com/coin-or/Csdp),\n",
    "  * [GLPK](https://www.gnu.org/software/glpk),\n",
    "  * [LINPROG](https://www.mathworks.com/help/optim/ug/linprog.html),\n",
    "  * [lp_solve](https://lpsolve.sourceforge.io),\n",
    "  * [MOSEK](https://www.mosek.com),\n",
    "  * [SDPA](https://sdpa.sourceforge.io),\n",
    "  * [SDPT3](https://github.com/sqlp/sdpt3), or\n",
    "  * [SeDuMi](https://github.com/sqlp/sedumi)."
   ]
  },
  {
   "cell_type": "markdown",
   "metadata": {},
   "source": [
    "## Obtaining VSDP\n",
    "\n",
    "### ZIP-File\n",
    "\n",
    "The most recent version of VSDP and this manual are available at <https://vsdp.github.io>.\n",
    "There you can download a ZIP-file `vsdp-2018-master.zip` and extract it to an arbitrary location.\n",
    "\n",
    "Legacy versions of VSDP are available from\n",
    "<http://www.ti3.tu-harburg.de/jansson/vsdp/>.\n",
    "\n",
    "### Using git\n",
    "\n",
    "If you have <https://git-scm.com/ git> installed and about 700 MB of disk\n",
    "space available, you can easily obtain a full bundle of VSDP 2006, 2012, 2018,\n",
    "including some aforementioned approximate solvers, and some benchmark\n",
    "libraries by the command\n",
    "\n",
    "```\n",
    "git clone --recurse-submodules https://github.com/vsdp/vsdp.github.io\n",
    "```\n",
    "\n",
    "In the cloned directory `vsdp.github.io/vsdp/2018` you find the latest version of VSDP."
   ]
  },
  {
   "cell_type": "markdown",
   "metadata": {},
   "source": [
    "## Installing VSDP\n",
    "\n",
    "If all requirements are fulfilled, just call from the MATLAB or GNU Octave\n",
    "command prompt inside the VSDP directory\n",
    "\n",
    "```\n",
    "install_vsdp;\n",
    "```\n",
    "\n",
    "and all necessary paths are set and VSDP is fully functional.\n",
    "To test the latter, you can run the small builtin test suite from MATLAB via\n",
    "\n",
    "```\n",
    "runtests ('testVSDP')\n",
    "\n",
    "  Totals:\n",
    "    5 Passed, 0 Failed, 0 Incomplete.\n",
    "    8.2712 seconds testing time.\n",
    "```\n",
    "\n",
    "or from GNU Octave via"
   ]
  },
  {
   "cell_type": "code",
   "execution_count": 11,
   "metadata": {},
   "outputs": [
    {
     "name": "stdout",
     "output_type": "stream",
     "text": [
      "..... \n",
      "Test summary\n",
      "------------\n",
      " \n",
      "testSINDEX   \tPASSED\t0.064231\n",
      "testSVEC_SMAT\tPASSED\t0.242374\n",
      "testLP       \tPASSED\t1.071925\n",
      "testSOCP     \tPASSED\t0.971227\n",
      "testSDP      \tPASSED\t1.330558\n"
     ]
    }
   ],
   "source": [
    "testVSDP;"
   ]
  },
  {
   "cell_type": "code",
   "execution_count": null,
   "metadata": {},
   "outputs": [],
   "source": []
  }
 ],
 "metadata": {
  "kernelspec": {
   "display_name": "Octave",
   "language": "octave",
   "name": "octave"
  },
  "language_info": {
   "file_extension": ".m",
   "help_links": [
    {
     "text": "GNU Octave",
     "url": "https://www.gnu.org/software/octave/support.html"
    },
    {
     "text": "Octave Kernel",
     "url": "https://github.com/Calysto/octave_kernel"
    },
    {
     "text": "MetaKernel Magics",
     "url": "https://github.com/calysto/metakernel/blob/master/metakernel/magics/README.md"
    }
   ],
   "mimetype": "text/x-octave",
   "name": "octave",
   "version": "4.4.1"
  }
 },
 "nbformat": 4,
 "nbformat_minor": 2
}
