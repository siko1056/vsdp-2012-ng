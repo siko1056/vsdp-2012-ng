{
 "cells": [
  {
   "cell_type": "markdown",
   "metadata": {},
   "source": [
    "# References"
   ]
  },
  {
   "cell_type": "markdown",
   "metadata": {},
   "source": [
    "- [Alizadeh2003]<a id=\"Alizadeh2003\"></a>\n",
    "  *F. Alizadeh and D. Goldfarb*\n",
    "  **\"Second-order cone programming\"**\n",
    "  (2003).\n",
    "  DOI: [10.1007/s10107-002-0339-5](https://doi.org/10.1007/s10107-002-0339-5)"
   ]
  },
  {
   "cell_type": "markdown",
   "metadata": {},
   "source": [
    "- [Andersen2002]<a id=\"Andersen2002\"></a>\n",
    "  *E. D. Andersen*\n",
    "  **\"Handling free variables in primal-dual interior-point methods using a quadratic cone\"**\n",
    "  (2002).\n",
    "  URL: <http://meetings.siam.org/sess/dsp_talk.cfm?p=3815>"
   ]
  },
  {
   "cell_type": "markdown",
   "metadata": {},
   "source": [
    "- [Anjos2007]<a id=\"Anjos2007\"></a>\n",
    "  *M. F. Anjos and S. Burer*\n",
    "  **\"On Handling Free Variables in Interior-Point Methods for Conic Linear Optimization\"**\n",
    "  (2007).\n",
    "  DOI: [10.1137/06066847X](https://doi.org/10.1137/06066847X)"
   ]
  },
  {
   "cell_type": "markdown",
   "metadata": {},
   "source": [
    "- [Ben-Tal2000]<a id=\"Ben-Tal2000\"></a>\n",
    "  *A. Ben-Tal, M. Kovara, A. Nemirovski, and J. Zowe*\n",
    "  **\"Free Material Design via Semidefinite Programming: The Multiload Case with Contact Conditions\"**\n",
    "  (2000).\n",
    "  DOI: [10.1137/S0036144500372081](https://doi.org/10.1137/S0036144500372081)"
   ]
  },
  {
   "cell_type": "markdown",
   "metadata": {},
   "source": [
    "- [Ben-Tal2001]<a id=\"Ben-Tal2001\"></a>\n",
    "  *A. Ben-Tal and A. Nemirovski*\n",
    "  **\"Lectures on Modern Convex Optimization\"**\n",
    "  (2001).\n",
    "  DOI: [10.1137/1.9780898718829](https://doi.org/10.1137/1.9780898718829)"
   ]
  },
  {
   "cell_type": "markdown",
   "metadata": {},
   "source": [
    "- [Borchers1999]<a id=\"Borchers1999\"></a>\n",
    "  *B. Borchers*\n",
    "  **\"SDPLIB 1.2, a library of semidefinite programming test problems\"**\n",
    "  (1999).\n",
    "  DOI: [10.1080/10556789908805769](https://doi.org/10.1080/10556789908805769)"
   ]
  },
  {
   "cell_type": "markdown",
   "metadata": {},
   "source": [
    "- [Borchers2017]<a id=\"Borchers2017\"></a>\n",
    "  *B. Borchers*\n",
    "  **\"CSDP 6.2.0 User's Guide\"**\n",
    "  (2017).\n",
    "  URL: <https://github.com/coin-or/Csdp/blob/master/doc/csdpuser.pdf>"
   ]
  },
  {
   "cell_type": "markdown",
   "metadata": {},
   "source": [
    "- [Chaykin2016]<a id=\"Chaykin2016\"></a>\n",
    "  *D. Chaykin, C. Jansson, F. Keil, M. Lange, K. T. Ohlhus, and S. M. Rump*\n",
    "  **\"Rigorous Results in Electronic Structure Calculations\"**\n",
    "  (2016).\n",
    "  URL: <http://www.optimization-online.org/DB_HTML/2016/11/5730.html>"
   ]
  },
  {
   "cell_type": "markdown",
   "metadata": {},
   "source": [
    "- [ElGhaoui1997]<a id=\"ElGhaoui1997\"></a>\n",
    "  *L. El Ghaoui and H. Lebret*\n",
    "  **\"Robust Solutions to Least-Squares Problems with Uncertain Data\"**\n",
    "  (1997).\n",
    "  DOI: [10.1137/S0895479896298130](https://doi.org/10.1137/S0895479896298130)"
   ]
  },
  {
   "cell_type": "markdown",
   "metadata": {},
   "source": [
    "- [Freund2007]<a id=\"Freund2007\"></a>\n",
    "  *R. M. Freund, F. Ordóñez, and K.-C. Toh*\n",
    "  **\"Behavioral measures and their correlation with IPM iteration counts on semi-definite programming problems\"**\n",
    "  (2007).\n",
    "  DOI: [10.1007/s10107-006-0035-y](https://doi.org/10.1007/s10107-006-0035-y)"
   ]
  },
  {
   "cell_type": "markdown",
   "metadata": {},
   "source": [
    "- [Härter2012]<a id=\"Härter2012\"></a>\n",
    "  *V. Härter, C. Jansson, and M. Lange*\n",
    "  **VSDP: A Matlab toolbox for verified semidefinite-quadratic-linear programming**\n",
    "  (2012).\n",
    "  URL: <http://www.optimization-online.org/DB_HTML/2013/01/3724.html>"
   ]
  },
  {
   "cell_type": "markdown",
   "metadata": {},
   "source": [
    "- [Jansson2004]<a id=\"Jansson2004\"></a>\n",
    "  *C. Jansson*\n",
    "  **\"Rigorous Lower and Upper Bounds in Linear Programming\"**\n",
    "  (2004).\n",
    "  DOI: [10.1137/S1052623402416839](https://doi.org/10.1137/S1052623402416839)"
   ]
  },
  {
   "cell_type": "markdown",
   "metadata": {},
   "source": [
    "- [Jansson2006]<a id=\"Jansson2006\"></a>\n",
    "  *C. Jansson*\n",
    "  **\"VSDP: Verified SemiDefinite Programming\"**\n",
    "  (2006).\n",
    "  URL: <http://www.optimization-online.org/DB_HTML/2006/12/1547.html>"
   ]
  },
  {
   "cell_type": "markdown",
   "metadata": {},
   "source": [
    "- [Jansson2007]<a id=\"Jansson2007\"></a>\n",
    "  *C. Jansson*\n",
    "  **\"Guaranteed Accuracy for Conic Programming Problems in Vector Lattices\"**\n",
    "  (2007).\n",
    "  URL: <https://arxiv.org/abs/0707.4366>"
   ]
  },
  {
   "cell_type": "markdown",
   "metadata": {},
   "source": [
    "- [Jansson2007a]<a id=\"Jansson2007a\"></a>\n",
    "  *C. Jansson, D. Chaykin, and C. Keil*\n",
    "  **\"Rigorous Error Bounds for the Optimal Value in Semidefinite Programming\"**\n",
    "  (2007).\n",
    "  DOI: [10.1137/050622870](https://doi.org/10.1137/050622870)"
   ]
  },
  {
   "cell_type": "markdown",
   "metadata": {},
   "source": [
    "- [Jansson2009]<a id=\"Jansson2009\"></a>\n",
    "  *C. Jansson*\n",
    "  **\"On verified numerical computations in convex programming\"**\n",
    "  (2009).\n",
    "  DOI: [10.1007/BF03186539](https://doi.org/10.1007/BF03186539)"
   ]
  },
  {
   "cell_type": "markdown",
   "metadata": {},
   "source": [
    "- [Kobayashi2007]<a id=\"Kobayashi2007\"></a>\n",
    "  *K. Kobayashi, K. Nakata, and M. Kojima*\n",
    "  **\"A conversion of an SDP having free variables into the standard form SDP\"**\n",
    "  (2007).\n",
    "  DOI: [10.1007/s10589-006-9002-z](https://doi.org/10.1007/s10589-006-9002-z)"
   ]
  },
  {
   "cell_type": "markdown",
   "metadata": {},
   "source": [
    "- [Kocvara2002]<a id=\"Kocvara2002\"></a>\n",
    "  *M. Kočvara*\n",
    "  **\"On the modelling and solving of the truss design problem with global stability constraints\"**\n",
    "  (2002).\n",
    "  DOI: [10.1007/s00158-002-0177-3](https://doi.org/10.1007/s00158-002-0177-3)"
   ]
  },
  {
   "cell_type": "markdown",
   "metadata": {},
   "source": [
    "- [Meszaros1998]<a id=\"Meszaros1998\"></a>\n",
    "  *C. Mészáros*\n",
    "  **\"On free variables in interior point methods\"**\n",
    "  (1998).\n",
    "  DOI: [10.1080/10556789808805689](https://doi.org/10.1080/10556789808805689)"
   ]
  },
  {
   "cell_type": "markdown",
   "metadata": {},
   "source": [
    "- [Meyer2001]<a id=\"Meyer2001\"></a>\n",
    "  *R. Meyer*\n",
    "  **\"When Good Computers Make Bad Calculations: A Cautionary Tale\"**\n",
    "  (2001).\n",
    "  URL: <http://www.nag.com/IndustryArticles/when_good_computers.pdf>"
   ]
  },
  {
   "cell_type": "markdown",
   "metadata": {},
   "source": [
    "- [Nakata2008]<a id=\"Nakata2008\"></a>\n",
    "  *M. Nakata, B. J. Braams, K. Fujisawa, M. Fukuda, J. K. Percus, M. Yamashita, and Z. Zhao*\n",
    "  **\"Variational Calculation of Second-Order Reduced Density Matrices by Strong {{N}}-Representability Conditions and an Accurate Semidefinite Programming Solver\"**\n",
    "  (2008).\n",
    "  DOI: [10.1063/1.2911696](https://doi.org/10.1063/1.2911696)"
   ]
  },
  {
   "cell_type": "markdown",
   "metadata": {},
   "source": [
    "- [Ordonez2003]<a id=\"Ordonez2003\"></a>\n",
    "  *F. Ordóñez and R. M. Freund*\n",
    "  **\"Computational Experience and the Explanatory Value of Condition Measures for Linear Optimization\"**\n",
    "  (2003).\n",
    "  DOI: [10.1137/S1052623402401804](https://doi.org/10.1137/S1052623402401804)"
   ]
  },
  {
   "cell_type": "markdown",
   "metadata": {},
   "source": [
    "- [Pataki2002]<a id=\"Pataki2002\"></a>\n",
    "  *G. Pataki and S. H. Schmieta*\n",
    "  **\"The DIMACS library of mixed semidefinite-quadratic-linear programs\"**\n",
    "  (2002).\n",
    "  URL: <http://dimacs.rutgers.edu/Challenges/Seventh/Instances/>"
   ]
  },
  {
   "cell_type": "markdown",
   "metadata": {},
   "source": [
    "- [Renegar1994] <a id=\"Renegar1994\"></a>\n",
    "  *J. Renegar*\n",
    "  **\"Some perturbation theory for linear programming\"**\n",
    "  (1994).\n",
    "  DOI: [10.1007/BF01581690](https://doi.org/10.1007/BF01581690)"
   ]
  },
  {
   "cell_type": "markdown",
   "metadata": {},
   "source": [
    "- [Rump1999]<a id=\"Rump1999\"></a>\n",
    "  *S. M. Rump*\n",
    "  **\"INTLAB - INTerval LABoratory\"**\n",
    "  (1999).\n",
    "  DOI: [10.1007/978-94-017-1247-7_7](https://doi.org/10.1007/978-94-017-1247-7_7)"
   ]
  },
  {
   "cell_type": "markdown",
   "metadata": {},
   "source": [
    "- [Rump2010]<a id=\"Rump2010\"></a>\n",
    "  *S. M. Rump*\n",
    "  **\"Verification methods: Rigorous results using floating-point arithmetic\"**\n",
    "  (2010).\n",
    "  DOI: [10.1017/S096249291000005X](https://doi.org/10.1017/S096249291000005X)"
   ]
  },
  {
   "cell_type": "markdown",
   "metadata": {},
   "source": [
    "- [Vandenberghe1996]<a id=\"Vandenberghe1996\"></a>\n",
    "  *L. Vandenberghe and S. Boyd*\n",
    "  **\"Semidefinite Programming\"**\n",
    "  (1996).\n",
    "  DOI: [10.1137/1038003](https://doi.org/10.1137/1038003)"
   ]
  },
  {
   "cell_type": "markdown",
   "metadata": {},
   "source": [
    "- [Zhao2004]<a id=\"Zhao2004\"></a>\n",
    "  *Z. Zhao, B. J. Braams, M. Fukuda, M. L. Overton, and J. K. Percus*\n",
    "  **\"The Reduced Density Matrix Method for Electronic Structure Calculations and the Role of Three-Index Representability Conditions\"**\n",
    "  (2004).\n",
    "  DOI: [10.1063/1.1636721](https://doi.org/10.1063/1.1636721)"
   ]
  },
  {
   "cell_type": "markdown",
   "metadata": {},
   "source": [
    "- [Zowe1997]<a id=\"Zowe1997\"></a>\n",
    "  *J. Zowe, M. Kočvara, and M. P. Bendsøe*\n",
    "  **\"Free material optimization via mathematical programming\"**\n",
    "  (1997).\n",
    "  DOI: [10.1007/BF02614328](https://doi.org/10.1007/BF02614328)"
   ]
  }
 ],
 "metadata": {
  "kernelspec": {
   "display_name": "Octave",
   "language": "octave",
   "name": "octave"
  },
  "language_info": {
   "file_extension": ".m",
   "help_links": [
    {
     "text": "GNU Octave",
     "url": "https://www.gnu.org/software/octave/support.html"
    },
    {
     "text": "Octave Kernel",
     "url": "https://github.com/Calysto/octave_kernel"
    },
    {
     "text": "MetaKernel Magics",
     "url": "https://metakernel.readthedocs.io/en/latest/source/README.html"
    }
   ],
   "mimetype": "text/x-octave",
   "name": "octave",
   "version": "5.2.0"
  }
 },
 "nbformat": 4,
 "nbformat_minor": 4
}
