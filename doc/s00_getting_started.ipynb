{
 "cells": [
  {
   "cell_type": "markdown",
   "metadata": {},
   "source": [
    "# VSDP <small>Verified SemiDefinite-quadratic-linear Programming</small>\n",
    "\n",
    "VSDP is a software package for the computation of verified results in conic programming.\n",
    "It supports the constraint cone consisting of the product of semidefinite cones,\n",
    "second-order cones, and the non-negative orthant.\n",
    "VSDP provides functions for computing rigorous error bounds of the true optimal value,\n",
    "verified enclosures of epsilon-optimal  solutions, and verified certificates of infeasibility.\n",
    "All rounding errors due to floating-point arithmetic are taken into account.\n",
    "\n",
    "The software is completely written in [MATLAB](https://www.mathworks.com) /\n",
    "[GNU Octave](https://www.gnu.org/software/octave) and requires the interval\n",
    "toolbox [INTLAB](http://www.ti3.tuhh.de/rump/intlab).  Thus interval input is\n",
    "supported as well.\n",
    "\n",
    "![VSDP workflow](./res/vsdp_workflow.svg)"
   ]
  },
  {
   "cell_type": "markdown",
   "metadata": {},
   "source": [
    "The latest version of VSDP provides easy access to the\n",
    "[conic solvers](s09_conic_solvers.ipynb):\n",
    "- [CSDP](https://github.com/coin-or/Csdp),\n",
    "  [GLPK](https://www.gnu.org/software/glpk),\n",
    "  [LINPROG](https://www.mathworks.com/help/optim/ug/linprog.html),\n",
    "  [lp_solve](https://lpsolve.sourceforge.io),\n",
    "  [MOSEK](https://www.mosek.com),\n",
    "  [SDPA](https://sdpa.sourceforge.io),\n",
    "  [SDPT3](https://github.com/sqlp/sdpt3), and\n",
    "  [SeDuMi](https://github.com/sqlp/sedumi)."
   ]
  },
  {
   "cell_type": "markdown",
   "metadata": {},
   "source": [
    "## Contents\n",
    "\n",
    "- [Installation](s00_installation.ipynb)\n",
    "- [Conic Programming](s01_conic_programming.ipynb)\n",
    "  - [Linear Programming (LP)](s02_linear_programming.ipynb)\n",
    "  - [Second-order Cone Programming (SOCP)](s03_second_order_cone_programming.ipynb)\n",
    "  - [Semidefinite Programming (SDP)](s04_semidefinite_programming.ipynb)\n",
    "- [A priori bounds](s05_a_priori_bounds.ipynb)\n",
    "- [Certificates of infeasibility](s06_certificates_of_infeasibility.ipynb)\n",
    "- [Free variables](s07_free_variables.ipynb)\n",
    "\n",
    "Appendix\n",
    "\n",
    "- [Numerical results](s08_numerical_results.ipynb)\n",
    "- [Conic solvers](s09_conic_solvers.ipynb)\n",
    "- [References](s10_references.ipynb)"
   ]
  },
  {
   "cell_type": "markdown",
   "metadata": {},
   "source": [
    "## Available VSDP versions\n",
    "\n",
    "- The VSDP versions numbers reflect the release date:\n",
    "  - [VSDP 2020](https://github.com/vsdp/vsdp-2020)\n",
    "    - Improvements: solver support and detection, workflow, testing, and\n",
    "      documentation.\n",
    "  - [VSDP 2012](https://github.com/vsdp/vsdp-2012)\n",
    "    - Improvements: additional support of second-order cones, linear cones, and\n",
    "      free variables, vectorized internal structure.\n",
    "      See [[Härter2012]](s10_references.ipynb#Härter2012).\n",
    "  - [VSDP 2006](https://github.com/vsdp/vsdp-2006)\n",
    "    - Support for large scale semidefinite problems, comprehensible code.\n",
    "      See [[Jansson2006]](s10_references.ipynb#Jansson2006)."
   ]
  },
  {
   "cell_type": "markdown",
   "metadata": {},
   "source": [
    "## Contributors\n",
    "\n",
    "- [Christian Jansson](http://www.ti3.tuhh.de/jansson/) (<jansson@tuhh.de>)\n",
    "- Marko Lange (<m.lange@tuhh.de>)\n",
    "- Viktor Härter\n",
    "- Kai Torben Ohlhus (<kai.ohlhus@tuhh.de>)"
   ]
  }
 ],
 "metadata": {
  "kernelspec": {
   "display_name": "Octave",
   "language": "octave",
   "name": "octave"
  },
  "language_info": {
   "file_extension": ".m",
   "help_links": [
    {
     "text": "GNU Octave",
     "url": "https://www.gnu.org/software/octave/support.html"
    },
    {
     "text": "Octave Kernel",
     "url": "https://github.com/Calysto/octave_kernel"
    },
    {
     "text": "MetaKernel Magics",
     "url": "https://metakernel.readthedocs.io/en/latest/source/README.html"
    }
   ],
   "mimetype": "text/x-octave",
   "name": "octave",
   "version": "5.2.0"
  }
 },
 "nbformat": 4,
 "nbformat_minor": 4
}
