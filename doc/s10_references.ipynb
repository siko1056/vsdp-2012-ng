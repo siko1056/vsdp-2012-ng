{
 "cells": [
  {
   "cell_type": "markdown",
   "metadata": {},
   "source": [
    "# References"
   ]
  },
  {
   "cell_type": "markdown",
   "metadata": {},
   "source": [
    "- [Alizadeh2003]<a id=\"Alizadeh2003\"></a>\n",
    "  *Alizadeh, F. and Goldfarb, D.*\n",
    "  **\"Second-order cone programming\"**\n",
    "  (2003).\n",
    "  DOI: [10.1007/s10107-002-0339-5](https://doi.org/10.1007/s10107-002-0339-5)"
   ]
  },
  {
   "cell_type": "markdown",
   "metadata": {},
   "source": [
    "- [Andersen2002]<a id=\"Andersen2002\"></a>\n",
    "  *Andersen, E. D.*\n",
    "  **\"Handling free variables in primal-dual interior-point methods using a quadratic cone\"**\n",
    "  (2002).\n",
    "  URL: <http://meetings.siam.org/sess/dsp_talk.cfm?p=3815>"
   ]
  },
  {
   "cell_type": "markdown",
   "metadata": {},
   "source": [
    "- [Anjos2007]<a id=\"Anjos2007\"></a>\n",
    "  *Anjos, M. F. and Burer, S.*\n",
    "  **\"On Handling Free Variables in Interior-Point Methods for Conic Linear Optimization\"**\n",
    "  (2007).\n",
    "  DOI: [10.1137/06066847X](https://doi.org/10.1137/06066847X)"
   ]
  },
  {
   "cell_type": "markdown",
   "metadata": {},
   "source": [
    "- [Ben-Tal2000]<a id=\"Ben-Tal2000\"></a>\n",
    "  *Ben-Tal, A. and Kovara, M. and Nemirovski, A. and Zowe, J.*\n",
    "  **\"Free Material Design via Semidefinite Programming: The Multiload Case with Contact Conditions\"**\n",
    "  (2000).\n",
    "  DOI: [10.1137/S0036144500372081](https://doi.org/10.1137/S0036144500372081)"
   ]
  },
  {
   "cell_type": "markdown",
   "metadata": {},
   "source": [
    "- [Ben-Tal2001]<a id=\"Ben-Tal2001\"></a>\n",
    "  *Ben-Tal, A. and Nemirovski, A.*\n",
    "  **\"Lectures on Modern Convex Optimization\"**\n",
    "  (2001).\n",
    "  DOI: [10.1137/1.9780898718829](https://doi.org/10.1137/1.9780898718829)"
   ]
  },
  {
   "cell_type": "markdown",
   "metadata": {},
   "source": [
    "- [Borchers1999]<a id=\"Borchers1999\"></a>\n",
    "  *Borchers, B.*\n",
    "  **\"SDPLIB 1.2, a library of semidefinite programming test problems\"**\n",
    "  (1999).\n",
    "  DOI: [10.1080/10556789908805769](https://doi.org/10.1080/10556789908805769)"
   ]
  },
  {
   "cell_type": "markdown",
   "metadata": {},
   "source": [
    "- [Borchers2017]<a id=\"Borchers2017\"></a>\n",
    "  *Borchers, B.*\n",
    "  **\"CSDP 6.2.0 User's Guide\"**\n",
    "  (2017).\n",
    "  URL: <https://github.com/coin-or/Csdp/blob/master/doc/csdpuser.pdf>"
   ]
  },
  {
   "cell_type": "markdown",
   "metadata": {},
   "source": [
    "- [Chaykin2016]<a id=\"Chaykin2016\"></a>\n",
    "  *Chaykin, D. and Jansson, C. and Keil, F. and Lange, M. and Ohlhus, K. T. and Rump, S. M.*\n",
    "  **\"Rigorous Results in Electronic Structure Calculations\"**\n",
    "  (2016).\n",
    "  URL: <http://www.optimization-online.org/DB_HTML/2016/11/5730.html>"
   ]
  },
  {
   "cell_type": "markdown",
   "metadata": {},
   "source": [
    "- [ElGhaoui1997]<a id=\"ElGhaoui1997\"></a>\n",
    "  *El Ghaoui, L. and Lebret, H.*\n",
    "  **\"Robust Solutions to Least-Squares Problems with Uncertain Data\"**\n",
    "  (1997).\n",
    "  DOI: [10.1137/S0895479896298130](https://doi.org/10.1137/S0895479896298130)"
   ]
  },
  {
   "cell_type": "markdown",
   "metadata": {},
   "source": [
    "- [Freund2007]<a id=\"Freund2007\"></a>\n",
    "  *Freund, R. M. and Ordóñez, F. and Toh, K.-C.*\n",
    "  **\"Behavioral measures and their correlation with IPM iteration counts on semi-definite programming problems\"**\n",
    "  (2007).\n",
    "  DOI: [10.1007/s10107-006-0035-y](https://doi.org/10.1007/s10107-006-0035-y)"
   ]
  },
  {
   "cell_type": "markdown",
   "metadata": {},
   "source": [
    "- [Härter2012]<a id=\"Härter2012\"></a>\n",
    "  *Härter, V. and Jansson, C. and Lange, M.*\n",
    "  **VSDP: A Matlab toolbox for verified semidefinite-quadratic-linear programming**\n",
    "  (2012).\n",
    "  URL: <http://www.optimization-online.org/DB_HTML/2013/01/3724.html>"
   ]
  },
  {
   "cell_type": "markdown",
   "metadata": {},
   "source": [
    "- [Jansson2004]<a id=\"Jansson2004\"></a>\n",
    "  *Jansson, C.*\n",
    "  **\"Rigorous Lower and Upper Bounds in Linear Programming\"**\n",
    "  (2004).\n",
    "  DOI: [10.1137/S1052623402416839](https://doi.org/10.1137/S1052623402416839)"
   ]
  },
  {
   "cell_type": "markdown",
   "metadata": {},
   "source": [
    "- [Jansson2006]<a id=\"Jansson2006\"></a>\n",
    "  *Jansson, C.*\n",
    "  **\"VSDP: Verified SemiDefinite Programming\"**\n",
    "  (2006).\n",
    "  URL: <http://www.optimization-online.org/DB_HTML/2006/12/1547.html>"
   ]
  },
  {
   "cell_type": "markdown",
   "metadata": {},
   "source": [
    "- [Jansson2007]<a id=\"Jansson2007\"></a>\n",
    "  *Jansson, C.*\n",
    "  **\"Guaranteed Accuracy for Conic Programming Problems in Vector Lattices\"**\n",
    "  (2007).\n",
    "  URL: <https://arxiv.org/abs/0707.4366>"
   ]
  },
  {
   "cell_type": "markdown",
   "metadata": {},
   "source": [
    "- [Jansson2007a]<a id=\"Jansson2007a\"></a>\n",
    "  *Jansson, C. and Chaykin, D. and Keil, C.*\n",
    "  **\"Rigorous Error Bounds for the Optimal Value in Semidefinite Programming\"**\n",
    "  (2007).\n",
    "  DOI: [10.1137/050622870](https://doi.org/10.1137/050622870)"
   ]
  },
  {
   "cell_type": "markdown",
   "metadata": {},
   "source": [
    "- [Jansson2009]<a id=\"Jansson2009\"></a>\n",
    "  *Jansson, C.*\n",
    "  **\"On verified numerical computations in convex programming\"**\n",
    "  (2009).\n",
    "  DOI: [10.1007/BF03186539](https://doi.org/10.1007/BF03186539)"
   ]
  },
  {
   "cell_type": "markdown",
   "metadata": {},
   "source": [
    "- [Kobayashi2007]<a id=\"Kobayashi2007\"></a>\n",
    "  *Kobayashi, K. and Nakata, K. and Kojima, M.*\n",
    "  **\"A conversion of an SDP having free variables into the standard form SDP\"**\n",
    "  (2007).\n",
    "  DOI: [10.1007/s10589-006-9002-z](https://doi.org/10.1007/s10589-006-9002-z)"
   ]
  },
  {
   "cell_type": "markdown",
   "metadata": {},
   "source": [
    "- [Kocvara2002]<a id=\"Kocvara2002\"></a>\n",
    "  *Kočvara, M.*\n",
    "  **\"On the modelling and solving of the truss design problem with global stability constraints\"**\n",
    "  (2002).\n",
    "  DOI: [10.1007/s00158-002-0177-3](https://doi.org/10.1007/s00158-002-0177-3)"
   ]
  },
  {
   "cell_type": "markdown",
   "metadata": {},
   "source": [
    "- [Meszaros1998]<a id=\"Meszaros1998\"></a>\n",
    "  *Mészáros, C.*\n",
    "  **\"On free variables in interior point methods\"**\n",
    "  (1998).\n",
    "  DOI: [10.1080/10556789808805689](https://doi.org/10.1080/10556789808805689)"
   ]
  },
  {
   "cell_type": "markdown",
   "metadata": {},
   "source": [
    "- [Meyer2001]<a id=\"Meyer2001\"></a>\n",
    "  *Meyer, R.*\n",
    "  **\"When Good Computers Make Bad Calculations: A Cautionary Tale\"**\n",
    "  (2001).\n",
    "  URL: <http://www.nag.com/IndustryArticles/when_good_computers.pdf>"
   ]
  },
  {
   "cell_type": "markdown",
   "metadata": {},
   "source": [
    "- [Nakata2008]<a id=\"Nakata2008\"></a>\n",
    "  *Nakata, M. and Braams, B. J. and Fujisawa, K. and Fukuda, M. and Percus, J. K. and Yamashita, M. and Zhao, Z.*\n",
    "  **\"Variational Calculation of Second-Order Reduced Density Matrices by Strong {{N}}-Representability Conditions and an Accurate Semidefinite Programming Solver\"**\n",
    "  (2008).\n",
    "  DOI: [10.1063/1.2911696](https://doi.org/10.1063/1.2911696)"
   ]
  },
  {
   "cell_type": "markdown",
   "metadata": {},
   "source": [
    "- [Ordonez2003]<a id=\"Ordonez2003\"></a>\n",
    "  *Ordóñez, F. and Freund, R. M.*\n",
    "  **\"Computational Experience and the Explanatory Value of Condition Measures for Linear Optimization\"**\n",
    "  (2003).\n",
    "  DOI: [10.1137/S1052623402401804](https://doi.org/10.1137/S1052623402401804)"
   ]
  },
  {
   "cell_type": "markdown",
   "metadata": {},
   "source": [
    "- [Pataki2002]<a id=\"Pataki2002\"></a>\n",
    "  *Pataki, G. and Schmieta, S. H.*\n",
    "  **\"The DIMACS library of mixed semidefinite-quadratic-linear programs\"**\n",
    "  (2002).\n",
    "  URL: <http://dimacs.rutgers.edu/Challenges/Seventh/Instances/>"
   ]
  },
  {
   "cell_type": "markdown",
   "metadata": {},
   "source": [
    "- [Renegar1994] <a id=\"Renegar1994\"></a>\n",
    "  *Renegar, J.*\n",
    "  **\"Some perturbation theory for linear programming\"**\n",
    "  (1994).\n",
    "  DOI: [10.1007/BF01581690](https://doi.org/10.1007/BF01581690)"
   ]
  },
  {
   "cell_type": "markdown",
   "metadata": {},
   "source": [
    "- [Rump1999]<a id=\"Rump1999\"></a>\n",
    "  *Rump, S. M.*\n",
    "  **\"INTLAB - INTerval LABoratory\"**\n",
    "  (1999).\n",
    "  DOI: [10.1007/978-94-017-1247-7_7](https://doi.org/10.1007/978-94-017-1247-7_7)"
   ]
  },
  {
   "cell_type": "markdown",
   "metadata": {},
   "source": [
    "- [Rump2010]<a id=\"Rump2010\"></a>\n",
    "  *Rump, S. M.*\n",
    "  **\"Verification methods: Rigorous results using floating-point arithmetic\"**\n",
    "  (2010).\n",
    "  DOI: [10.1017/S096249291000005X](https://doi.org/10.1017/S096249291000005X)"
   ]
  },
  {
   "cell_type": "markdown",
   "metadata": {},
   "source": [
    "- [Vandenberghe1996]<a id=\"Vandenberghe1996\"></a>\n",
    "  *Vandenberghe, L. and Boyd, S.*\n",
    "  **\"Semidefinite Programming\"**\n",
    "  (1996).\n",
    "  DOI: [10.1137/1038003](https://doi.org/10.1137/1038003)"
   ]
  },
  {
   "cell_type": "markdown",
   "metadata": {},
   "source": [
    "- [Zhao2004]<a id=\"Zhao2004\"></a>\n",
    "  *Zhao, Z. and Braams, B. J. and Fukuda, M. and Overton, M. L. and Percus, J. K.*\n",
    "  **\"The Reduced Density Matrix Method for Electronic Structure Calculations and the Role of Three-Index Representability Conditions\"**\n",
    "  (2004).\n",
    "  DOI: [10.1063/1.1636721](https://doi.org/10.1063/1.1636721)"
   ]
  },
  {
   "cell_type": "markdown",
   "metadata": {},
   "source": [
    "- [Zowe1997]<a id=\"Zowe1997\"></a>\n",
    "  *Zowe, J. and Kočvara, M. and Bendsøe, M. P.*\n",
    "  **\"Free material optimization via mathematical programming\"**\n",
    "  (1997).\n",
    "  DOI: [10.1007/BF02614328](https://doi.org/10.1007/BF02614328)"
   ]
  }
 ],
 "metadata": {
  "kernelspec": {
   "display_name": "Octave",
   "language": "octave",
   "name": "octave"
  },
  "language_info": {
   "file_extension": ".m",
   "help_links": [
    {
     "text": "GNU Octave",
     "url": "https://www.gnu.org/software/octave/support.html"
    },
    {
     "text": "Octave Kernel",
     "url": "https://github.com/Calysto/octave_kernel"
    },
    {
     "text": "MetaKernel Magics",
     "url": "https://metakernel.readthedocs.io/en/latest/source/README.html"
    }
   ],
   "mimetype": "text/x-octave",
   "name": "octave",
   "version": "5.1.0"
  }
 },
 "nbformat": 4,
 "nbformat_minor": 4
}
