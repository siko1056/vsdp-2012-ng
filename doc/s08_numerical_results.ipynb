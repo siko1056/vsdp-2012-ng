{
 "cells": [
  {
   "cell_type": "markdown",
   "metadata": {},
   "source": [
    "# Numerical Results\n",
    "\n",
    "In this section,\n",
    "we present statistics for the numerical results obtained by VSDP for conic programming problems.\n",
    "The tests were performed using approximations computed by the conic solvers:\n",
    "CSDP, MOSEK, SDPA, SDPT3, and SeDuMi.\n",
    "For second order cone programming problems only MOSEK, SDPT3, and SeDuMi were used.\n",
    "The solvers have been called with their default parameters.\n",
    "Almost all of the problems that could not be solved with a guaranteed accuracy of about $10^{-7}$\n",
    "are known to be ill-posed (cf. [[Ordonez2003]](s10_references.ipynb#Ordonez2003)).\n",
    "\n",
    "The relative accuracy of two numbers is measured by\n",
    "$$\n",
    "\\mu(a,b) := \\dfrac{a-b}{\\max\\{1.0, (|a|+|b|)/2\\}}.\n",
    "$$\n",
    "\n",
    "Notice that we do not use the absolute value of $a - b$.\n",
    "Hence, a negative sign implies that $a < b$."
   ]
  },
  {
   "cell_type": "markdown",
   "metadata": {},
   "source": [
    "## SDPLIB\n",
    "\n",
    "In the following,\n",
    "we describe the numerical results for 92 problems from the SDPLIB suite\n",
    "of Borchers [[Borchers1999]](s10_references.ipynb#Borchers1999).\n",
    "In [[Freund2007]](s10_references.ipynb#Freund2007) it is shown\n",
    "that four problems are infeasible,\n",
    "and 32 problems are ill-posed."
   ]
  },
  {
   "cell_type": "markdown",
   "metadata": {},
   "source": [
    "VSDP could compute rigorous bounds of the optimal values\n",
    "for all feasible well-posed problems\n",
    "and verify the existence of strictly primal and dual feasible solutions.\n",
    "Hence,\n",
    "strong duality is proved.\n",
    "For the 32 ill-posed problems VSDP has computed the upper bound $\\overline{f_{d}} = \\text{Inf}$,\n",
    "which reflects the fact that the distance to the next primal infeasible problem is zero.\n",
    "For the four infeasible problems\n",
    "VSDP could compute rigorous certificates of infeasibility.\n",
    "Detailed numerical results can be found in the tables for\n",
    "[System 1](res/2018_12/SDPLIB_SYS1.html) and [System 2](res/2018_12/SDPLIB_SYS2.html),\n",
    "where the computed rigorous upper bound $\\overline{f_{d}}$,\n",
    "the rigorous lower bound $\\underline{f_{p}}$,\n",
    "and the rigorous error bound $\\mu(\\overline{f_{d}},\\underline{f_{p}})$ are displayed.\n",
    "We have set $\\mu(\\overline{f_{d}},\\underline{f_{p}}) = \\text{NaN}$\n",
    "if the upper or the lower bound is infinite.\n",
    "Both tables also contain running times in seconds,\n",
    "where $t_{s}$ is the time for computing the approximations\n",
    "and $\\overline{t}$ and $\\underline{t}$ are the times\n",
    "for computing the upper and the lower rigorous error bounds,\n",
    "respectively."
   ]
  },
  {
   "cell_type": "markdown",
   "metadata": {},
   "source": [
    "Some major characteristics the numerical results for the SDPLIB\n",
    "are summarized by the following figures."
   ]
  },
  {
   "cell_type": "markdown",
   "metadata": {},
   "source": [
    "> ![SDPLIB relative accuracies.](res/2018_12/SDPLIB_mu.png)\n",
    ">\n",
    "> **Figure 1:** Relative accuracies $\\mu(\\overline{f_{d}},\\underline{f_{p}})$.\n",
    "> Only results for which both rigorous error bounds were computed\n",
    "> are taken into account.\n",
    "> With the exception of SDPA,\n",
    "> all approximate conic solvers can compute rigorous error bounds\n",
    "> with 7 or 8 significant decimal digits."
   ]
  },
  {
   "cell_type": "markdown",
   "metadata": {},
   "source": [
    "> ![SDPLIB computation times tL.](res/2018_12/SDPLIB_tL.png)\n",
    ">\n",
    "> **Figure 2:** Computation times for $\\underline{t}$ relative to $t_{s}$."
   ]
  },
  {
   "cell_type": "markdown",
   "metadata": {},
   "source": [
    "> ![SDPLIB computation times tU.](res/2018_12/SDPLIB_tU.png)\n",
    ">\n",
    "> **Figure 3:** Computation times for $\\overline{t}$ relative to $t_{s}$."
   ]
  },
  {
   "cell_type": "markdown",
   "metadata": {},
   "source": [
    "Furthermore,\n",
    "the figures show,\n",
    "that the error bounds as well as the time ratios\n",
    "depend significantly on the used conic solver.\n",
    "Even the largest problem _MaxG60_\n",
    "with about 24 million variables and 7000 constraints\n",
    "can be solved rigorously by VSDP\n",
    "with high accuracy and in a reasonable time."
   ]
  },
  {
   "cell_type": "markdown",
   "metadata": {},
   "source": [
    "## SPARSE_SDP\n",
    "\n",
    "In this section a statistic of the numerical results\n",
    "for problems from structural and topological optimization is presented.\n",
    "Structural and especially free material optimization\n",
    "gains more and more interest in the recent years.\n",
    "The most prominent example is the design of ribs\n",
    "in the leading edge of the Airbus A380.\n",
    "We performed tests on problems from the test library collected by Kočvara.\n",
    "This is a collection of 26 sparse semidefinite programming problems.\n",
    "More details on these problems can be found in\n",
    "[[Ben-Tal2000]](s10_references.ipynb#Ben-Tal2000),\n",
    "[[Kocvara2002]](s10_references.ipynb#Kocvara2002), and\n",
    "[[Zowe1997]](s10_references.ipynb#Zowe1997).\n",
    "For 22 problems out of this collection VSDP could compute\n",
    "a rigorous primal and dual $\\varepsilon$-optimal solution,\n",
    "using SeDuMi as approximate solver.\n",
    "The largest problem that was rigorously solved by VSDP is _shmup5_.\n",
    "This problem has 1800 equality constraints and 13 million variables.\n",
    "\n",
    "Detailed results can be found in the tables for\n",
    "[System 1](res/2018_12/SPARSE_SDP_SYS1.html) and [System 2](res/2018_12/SPARSE_SDP_SYS2.html).\n",
    "A statistic of these numerical experiments is given in the following figures."
   ]
  },
  {
   "cell_type": "markdown",
   "metadata": {},
   "source": [
    "> ![SPARSE_SDP relative accuracies.](res/2018_12/SPARSE_SDP_mu.png)\n",
    ">\n",
    "> **Figure 4:** Relative accuracies $\\mu(\\overline{f_{d}},\\underline{f_{p}})$.\n",
    "> Only results for which both rigorous error bounds were computed\n",
    "> are taken into account."
   ]
  },
  {
   "cell_type": "markdown",
   "metadata": {},
   "source": [
    "> ![SPARSE_SDP computation times tL.](res/2018_12/SPARSE_SDP_tL.png)\n",
    ">\n",
    "> **Figure 5:** Computation times for $\\underline{t}$ relative to $t_{s}$."
   ]
  },
  {
   "cell_type": "markdown",
   "metadata": {},
   "source": [
    "> ![SDPLIB computation times tU.](res/2018_12/SPARSE_SDP_tU.png)\n",
    ">\n",
    "> **Figure 6:** Computation times for $\\overline{t}$ relative to $t_{s}$."
   ]
  },
  {
   "cell_type": "markdown",
   "metadata": {},
   "source": [
    "## DIMACS\n",
    "\n",
    "We present some statistics of numerical results\n",
    "for the DIMACS test library of  semidefinte-quadratic-linear programs.\n",
    "This library was assembled for the purposes of the 7-th DIMACS Implementation Challenge.\n",
    "There are 47 challenging problems that are divided into 12 groups.\n",
    "For details see [[Pataki2002]](s10_references.ipynb#Pataki2002).\n",
    "In each group there are about five instances,\n",
    "from routinely solvable ones\n",
    "to those at or beyond the capabilities of current solvers.\n",
    "Due to the large problem sizes\n",
    "this test library was only run on System 2 using MOSEK\n",
    "and the problem _fap25_ had to be omitted in our test.\n",
    "\n",
    "One of the largest problems which could be solved by VSDP is the problem\n",
    "_torusg3-15_, with 3375 equality constraints and about 5 million variables.\n",
    "\n",
    "Detailed results can be found in the table for [System 2](res/2018_12/DIMACS_SYS2.html).\n",
    "A statistic of these numerical experiments is given in the following figures."
   ]
  },
  {
   "cell_type": "markdown",
   "metadata": {},
   "source": [
    "> ![DIMACS relative accuracies.](res/2018_12/DIMACS_mu.png)\n",
    ">\n",
    "> **Figure 7:** Relative accuracies $\\mu(\\overline{f_{d}},\\underline{f_{p}})$.\n",
    "> Only results for which both rigorous error bounds were computed\n",
    "> are taken into account."
   ]
  },
  {
   "cell_type": "markdown",
   "metadata": {},
   "source": [
    "> ![DIMACS computation times tL.](res/2018_12/DIMACS_tL.png)\n",
    ">\n",
    "> **Figure 8:** Computation times for $\\underline{t}$ relative to $t_{s}$."
   ]
  },
  {
   "cell_type": "markdown",
   "metadata": {},
   "source": [
    "> ![DIMACS computation times tU.](res/2018_12/DIMACS_tU.png)\n",
    ">\n",
    "> **Figure 9:** Computation times for $\\overline{t}$ relative to $t_{s}$."
   ]
  },
  {
   "cell_type": "markdown",
   "metadata": {},
   "source": [
    "## ESC\n",
    "\n",
    "Detailed results can be found in the table for [System 2](res/2018_12/ESC_SYS2.html).\n",
    "A statistic of these numerical experiments is given in the following figures."
   ]
  },
  {
   "cell_type": "markdown",
   "metadata": {},
   "source": [
    "> ![ESC relative accuracies.](res/2018_12/ESC_mu.png)\n",
    ">\n",
    "> **Figure 10:** Relative accuracies $\\mu(\\overline{f_{d}},\\underline{f_{p}})$.\n",
    "> Only results for which both rigorous error bounds were computed\n",
    "> are taken into account."
   ]
  },
  {
   "cell_type": "markdown",
   "metadata": {},
   "source": [
    "> ![ESC computation times tL.](res/2018_12/ESC_tL.png)\n",
    ">\n",
    "> **Figure 11:** Computation times for $\\underline{t}$ relative to $t_{s}$."
   ]
  },
  {
   "cell_type": "markdown",
   "metadata": {},
   "source": [
    "> ![ESC computation times tU.](res/2018_12/ESC_tU.png)\n",
    ">\n",
    "> **Figure 12:** Computation times for $\\overline{t}$ relative to $t_{s}$."
   ]
  },
  {
   "cell_type": "markdown",
   "metadata": {},
   "source": [
    "## RDM\n",
    "\n",
    "Detailed results can be found in the table for [System 2](res/2018_12/RDM_SYS2.html)."
   ]
  },
  {
   "cell_type": "code",
   "execution_count": null,
   "metadata": {},
   "outputs": [],
   "source": []
  }
 ],
 "metadata": {
  "kernelspec": {
   "display_name": "Octave",
   "language": "octave",
   "name": "octave"
  },
  "language_info": {
   "file_extension": ".m",
   "help_links": [
    {
     "text": "GNU Octave",
     "url": "https://www.gnu.org/software/octave/support.html"
    },
    {
     "text": "Octave Kernel",
     "url": "https://github.com/Calysto/octave_kernel"
    },
    {
     "text": "MetaKernel Magics",
     "url": "https://github.com/calysto/metakernel/blob/master/metakernel/magics/README.md"
    }
   ],
   "mimetype": "text/x-octave",
   "name": "octave",
   "version": "5.1.0"
  }
 },
 "nbformat": 4,
 "nbformat_minor": 2
}
